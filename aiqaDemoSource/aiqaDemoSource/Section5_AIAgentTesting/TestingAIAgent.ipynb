{
 "cells": [
  {
   "cell_type": "markdown",
   "metadata": {},
   "source": [
    "### Test AI Agent 🤖 Tool Calling with DeepEval 🧪\n",
    "\n",
    "Testing AI Agent involves testing of the Tools being invoked by an AI Agent. Here, AI Agent will invoke the necessary tools based on the given input and respond with the help of the tools being bounded with the AI Agent\n",
    "\n",
    "\n",
    "<img src=\"./img/AIAGent.png\" width=\"800\" height=\"400\" style=\"display: block; margin: auto;\">"
   ]
  },
  {
   "cell_type": "code",
   "execution_count": 5,
   "metadata": {},
   "outputs": [
    {
     "name": "stdout",
     "output_type": "stream",
     "text": [
      "\n",
      "\u001b[1m[\u001b[0m\u001b[34;49mnotice\u001b[0m\u001b[1;39;49m]\u001b[0m\u001b[39;49m A new release of pip is available: \u001b[0m\u001b[31;49m24.2\u001b[0m\u001b[39;49m -> \u001b[0m\u001b[32;49m25.0.1\u001b[0m\n",
      "\u001b[1m[\u001b[0m\u001b[34;49mnotice\u001b[0m\u001b[1;39;49m]\u001b[0m\u001b[39;49m To update, run: \u001b[0m\u001b[32;49mpip install --upgrade pip\u001b[0m\n"
     ]
    }
   ],
   "source": [
    "#!pip install -qU duckduckgo-search"
   ]
  },
  {
   "cell_type": "code",
   "execution_count": 17,
   "metadata": {},
   "outputs": [],
   "source": [
    "from langchain_ollama import ChatOllama\n",
    "\n",
    "llm = ChatOllama(\n",
    "    base_url=\"http://localhost:11434\",\n",
    "    model = \"qwen2.5:latest\",\n",
    "    temperature=0.5,\n",
    "    max_tokens = 250\n",
    ")"
   ]
  },
  {
   "cell_type": "markdown",
   "metadata": {},
   "source": [
    "#### AI Agent with Tools"
   ]
  },
  {
   "cell_type": "code",
   "execution_count": 19,
   "metadata": {},
   "outputs": [
    {
     "name": "stdout",
     "output_type": "stream",
     "text": [
      "\n",
      "\n",
      "\u001b[1m> Entering new AgentExecutor chain...\u001b[0m\n",
      "\u001b[32;1m\u001b[1;3mThought: I need to search for the current president of USA in 2025.\n",
      "\n",
      "Action:\n",
      "```\n",
      "{\n",
      "  \"action\": \"duckduckgo_search\",\n",
      "  \"action_input\": \"current president of USA in 2025\"\n",
      "}\n",
      "```\u001b[0m\n",
      "Observation: \u001b[38;5;200m\u001b[1;3mTrump will take office at the presidential inauguration on Monday, 20 January 2025. At that point he will legally assume the role of president. Just how big was Donald Trump's election... Donald Trump has taken the oath of office to become the 47th president of the United States, returning to the White House four years after he left it in defeat. In his inaugural speech on... Donald Trump has officially become the 47th president of the United States. In a special ceremony called an inauguration, President Trump took over from Joe Biden as America's new leader. WASHINGTON − Donald Trump was sworn in Monday as the 47th president of the United States, returning to the White House after overcoming four criminal indictments and two assassination... Donald Trump takes office for his second term as the 47th president of the United States in the Rotunda of the U.S. Capitol in Washington, DC, on Monday, January 20, 2025.\u001b[0m\n",
      "Thought:\u001b[32;1m\u001b[1;3mAction:\n",
      "```\n",
      "{\n",
      "  \"action\": \"Final Answer\",\n",
      "  \"action_input\": \"Donald Trump\"\n",
      "}\n",
      "```\u001b[0m\n",
      "\n",
      "\u001b[1m> Finished chain.\u001b[0m\n",
      "{'input': 'Who is the current president of USA in 2025, just give the name', 'output': 'Donald Trump', 'intermediate_steps': [(AgentAction(tool='duckduckgo_search', tool_input='current president of USA in 2025', log='Thought: I need to search for the current president of USA in 2025.\\n\\nAction:\\n```\\n{\\n  \"action\": \"duckduckgo_search\",\\n  \"action_input\": \"current president of USA in 2025\"\\n}\\n```'), \"Trump will take office at the presidential inauguration on Monday, 20 January 2025. At that point he will legally assume the role of president. Just how big was Donald Trump's election... Donald Trump has taken the oath of office to become the 47th president of the United States, returning to the White House four years after he left it in defeat. In his inaugural speech on... Donald Trump has officially become the 47th president of the United States. In a special ceremony called an inauguration, President Trump took over from Joe Biden as America's new leader. WASHINGTON − Donald Trump was sworn in Monday as the 47th president of the United States, returning to the White House after overcoming four criminal indictments and two assassination... Donald Trump takes office for his second term as the 47th president of the United States in the Rotunda of the U.S. Capitol in Washington, DC, on Monday, January 20, 2025.\")]}\n"
     ]
    }
   ],
   "source": [
    "from langchain.tools import tool\n",
    "from langchain.agents import initialize_agent, AgentType\n",
    "from langchain_community.tools import DuckDuckGoSearchRun\n",
    "\n",
    "search_tool = DuckDuckGoSearchRun()\n",
    "\n",
    "@tool\n",
    "def add_numbers(a: int, b: int) -> int:\n",
    "    \"Add two numbers and return results.\"\n",
    "    return int(a) + int(b)\n",
    "\n",
    "@tool\n",
    "def subtract_numbers(a: int, b: int) -> int:\n",
    "    \"Subtract two numbers and return results.\"\n",
    "    return int(a) - int(b)\n",
    "\n",
    "tools = [add_numbers, subtract_numbers, search_tool]\n",
    "\n",
    "agent = initialize_agent(\n",
    "    tools= tools,\n",
    "    llm=llm,\n",
    "    agent=AgentType.STRUCTURED_CHAT_ZERO_SHOT_REACT_DESCRIPTION,\n",
    "    verbose=True,\n",
    "    return_intermediate_steps=True\n",
    ")\n",
    "\n",
    "response = agent.invoke(\"Who is the current president of USA in 2025, just give the name\")\n",
    "\n",
    "print(response)\n",
    "\n",
    "def query_ai_agent(question):\n",
    "    response = agent.invoke(question)\n",
    "    intermediate_steps = response['intermediate_steps']\n",
    "    agent_action, results = intermediate_steps[0]\n",
    "    tool = agent_action.tool\n",
    "    tool_input = agent_action.tool_input\n",
    "    return response,tool, tool_input,\n"
   ]
  },
  {
   "cell_type": "code",
   "execution_count": 80,
   "metadata": {},
   "outputs": [
    {
     "name": "stdout",
     "output_type": "stream",
     "text": [
      "\n",
      "\n",
      "\u001b[1m> Entering new AgentExecutor chain...\u001b[0m\n",
      "\u001b[32;1m\u001b[1;3mThought: I need to search for the current and future presidents to determine who will be the president in 2025.\n",
      "\n",
      "Action:\n",
      "```\n",
      "{\n",
      "  \"action\": \"duckduckgo_search\",\n",
      "  \"action_input\": \"president of USA in 2025\"\n",
      "}\n",
      "```\u001b[0m\n",
      "Observation: \u001b[38;5;200m\u001b[1;3mThe incumbent president is Donald Trump, who assumed office on January 20, 2025. [ 5 ] [ 6 ] Since the office was established in 1789, 45 men have served in 47 presidencies; the discrepancy arises from two individuals elected to non-consecutive terms: Grover Cleveland is counted as the 22nd and 24th president of the United States ... Trump will take office at the presidential inauguration on Monday, 20 January 2025. At that point he will legally assume the role of president. Just how big was Donald Trump's election... Donald Trump has officially become the 47th president of the United States. In a special ceremony called an inauguration, President Trump took over from Joe Biden as America's new leader. WASHINGTON − Donald Trump was sworn in Monday as the 47th president of the United States, returning to the White House after overcoming four criminal indictments and two assassination... Donald Trump will officially become the 47th President of the United States at a ceremony called the inauguration. Inauguration day will take place on Monday 20 January and is the day Donald...\u001b[0m\n",
      "Thought:\u001b[32;1m\u001b[1;3mAction:\n",
      "```\n",
      "{\n",
      "  \"action\": \"Final Answer\",\n",
      "  \"action_input\": \"Donald Trump\"\n",
      "}\n",
      "```\u001b[0m\n",
      "\n",
      "\u001b[1m> Finished chain.\u001b[0m\n",
      "{'input': 'Who is the president of USA in 2025, just give me the name', 'output': 'Donald Trump', 'intermediate_steps': [(AgentAction(tool='duckduckgo_search', tool_input='president of USA in 2025', log='Thought: I need to search for the current and future presidents to determine who will be the president in 2025.\\n\\nAction:\\n```\\n{\\n  \"action\": \"duckduckgo_search\",\\n  \"action_input\": \"president of USA in 2025\"\\n}\\n```'), \"The incumbent president is Donald Trump, who assumed office on January 20, 2025. [ 5 ] [ 6 ] Since the office was established in 1789, 45 men have served in 47 presidencies; the discrepancy arises from two individuals elected to non-consecutive terms: Grover Cleveland is counted as the 22nd and 24th president of the United States ... Trump will take office at the presidential inauguration on Monday, 20 January 2025. At that point he will legally assume the role of president. Just how big was Donald Trump's election... Donald Trump has officially become the 47th president of the United States. In a special ceremony called an inauguration, President Trump took over from Joe Biden as America's new leader. WASHINGTON − Donald Trump was sworn in Monday as the 47th president of the United States, returning to the White House after overcoming four criminal indictments and two assassination... Donald Trump will officially become the 47th President of the United States at a ceremony called the inauguration. Inauguration day will take place on Monday 20 January and is the day Donald...\")]}\n",
      "duckduckgo_search\n",
      "president of USA in 2025\n"
     ]
    }
   ],
   "source": [
    "response,tool, tool_input = query_ai_agent(\"Who is the president of USA in 2025, just give me the name\")\n",
    "\n",
    "print(response)\n",
    "\n",
    "print(tool)\n",
    "\n",
    "print(tool_input)"
   ]
  },
  {
   "cell_type": "markdown",
   "metadata": {},
   "source": [
    "### Testing AI Agent with DeepEval"
   ]
  },
  {
   "cell_type": "code",
   "execution_count": 22,
   "metadata": {},
   "outputs": [
    {
     "name": "stderr",
     "output_type": "stream",
     "text": [
      "/Users/karthik/tryout/aiqaDemo/myenv312/lib/python3.12/site-packages/deepeval/__init__.py:54: UserWarning: You are using deepeval version 2.5.9, however version 2.6.4 is available. You should consider upgrading via the \"pip install --upgrade deepeval\" command.\n",
      "  warnings.warn(\n"
     ]
    },
    {
     "data": {
      "text/html": [
       "<pre style=\"white-space:pre;overflow-x:auto;line-height:normal;font-family:Menlo,'DejaVu Sans Mono',consolas,'Courier New',monospace\">🎉🥳 Congratulations! You've successfully logged in! 🙌 \n",
       "</pre>\n"
      ],
      "text/plain": [
       "🎉🥳 Congratulations! You've successfully logged in! 🙌 \n"
      ]
     },
     "metadata": {},
     "output_type": "display_data"
    }
   ],
   "source": [
    "import deepeval\n",
    "\n",
    "deepeval.login_with_confident_api_key(\"chf7LtTWtK1foTOAiK+vHFZ622I16kZtcpzfC+7FAVU=\")"
   ]
  },
  {
   "cell_type": "code",
   "execution_count": 23,
   "metadata": {},
   "outputs": [
    {
     "name": "stdout",
     "output_type": "stream",
     "text": [
      "/Users/karthik/tryout/aiqaDemo/myenv312/lib/python3.12/site-packages/deepeval/__init__.py:54: UserWarning: You are using deepeval version 2.5.9, however version 2.6.4 is available. You should consider upgrading via the \"pip install --upgrade deepeval\" command.\n",
      "  warnings.warn(\n",
      "🙌 Congratulations! You're now using a local Ollama model for all evals that \n",
      "require an LLM.\n"
     ]
    }
   ],
   "source": [
    "!deepeval set-ollama qwen2.5:latest"
   ]
  },
  {
   "cell_type": "code",
   "execution_count": 81,
   "metadata": {},
   "outputs": [],
   "source": [
    "from deepeval.test_case import ToolCall\n",
    "\n",
    "test_data = [\n",
    "    {\n",
    "        \"input\": \"What is the sum of 20 and 40\",\n",
    "        \"expected_output\": \"60\",\n",
    "        \"tool_called\": [\n",
    "            ToolCall(name = \"add_numbers\")\n",
    "        ]\n",
    "    },\n",
    "     {\n",
    "        \"input\": \"Who is the president of USA in 2025, just give me the name\",\n",
    "        \"expected_output\": \"Donald Trump\",\n",
    "        \"tool_called\": [\n",
    "            ToolCall(name = \"duckduckgo_search\")\n",
    "        ]\n",
    "    }\n",
    "]"
   ]
  },
  {
   "cell_type": "code",
   "execution_count": 82,
   "metadata": {},
   "outputs": [
    {
     "data": {
      "text/plain": [
       "[{'input': 'What is the sum of 20 and 40',\n",
       "  'expected_output': '60',\n",
       "  'tool_called': [ToolCall(\n",
       "       name=\"add_numbers\"\n",
       "   )]},\n",
       " {'input': 'Who is the president of USA in 2025, just give me the name',\n",
       "  'expected_output': 'Donald Trump',\n",
       "  'tool_called': [ToolCall(\n",
       "       name=\"duckduckgo_search\"\n",
       "   )]}]"
      ]
     },
     "execution_count": 82,
     "metadata": {},
     "output_type": "execute_result"
    }
   ],
   "source": [
    "test_data"
   ]
  },
  {
   "cell_type": "code",
   "execution_count": 31,
   "metadata": {},
   "outputs": [
    {
     "data": {
      "text/plain": [
       "[ToolCall(\n",
       "     name=\"add_numbers\"\n",
       " )]"
      ]
     },
     "execution_count": 31,
     "metadata": {},
     "output_type": "execute_result"
    }
   ],
   "source": [
    "test_data[0]['tool_called']"
   ]
  },
  {
   "cell_type": "code",
   "execution_count": 85,
   "metadata": {},
   "outputs": [
    {
     "name": "stdout",
     "output_type": "stream",
     "text": [
      "\n",
      "\n",
      "\u001b[1m> Entering new AgentExecutor chain...\u001b[0m\n",
      "\u001b[32;1m\u001b[1;3mAction:\n",
      "```\n",
      "{\n",
      "  \"action\": \"add_numbers\",\n",
      "  \"action_input\": {\n",
      "    \"a\": 20,\n",
      "    \"b\": 40\n",
      "  }\n",
      "}\n",
      "```\u001b[0m\n",
      "Observation: \u001b[36;1m\u001b[1;3m60\u001b[0m\n",
      "Thought:\u001b[32;1m\u001b[1;3mAction:\n",
      "```\n",
      "{\n",
      "  \"action\": \"Final Answer\",\n",
      "  \"action_input\": \"The sum of 20 and 40 is 60.\"\n",
      "}\n",
      "```\u001b[0m\n",
      "\n",
      "\u001b[1m> Finished chain.\u001b[0m\n",
      "\n",
      "\n",
      "\u001b[1m> Entering new AgentExecutor chain...\u001b[0m\n",
      "\u001b[32;1m\u001b[1;3mThought: I can use DuckDuckGo to search for this information.\n",
      "\n",
      "Action:\n",
      "```\n",
      "{\n",
      "  \"action\": \"duckduckgo_search\",\n",
      "  \"action_input\": \"who is the president of USA in 2025\"\n",
      "}\n",
      "```\u001b[0m\n",
      "Observation: \u001b[38;5;200m\u001b[1;3mThe incumbent president is Donald Trump, who assumed office on January 20, 2025. [5][6] Since the office was established in 1789, 45 men have served in 47 presidencies; the discrepancy arises from two individuals elected to non-consecutive terms: Grover Cleveland is counted as the 22nd and 24th president of the United States, while Donald Trump ... Trump will take office at the presidential inauguration on Monday, 20 January 2025. At that point he will legally assume the role of president. Just how big was Donald Trump's election... WASHINGTON − Donald Trump was sworn in Monday as the 47th president of the United States, returning to the White House after overcoming four criminal indictments and two assassination... Donald Trump has officially become the 47th president of the United States. In a special ceremony called an inauguration, President Trump took over from Joe Biden as America's new leader. Donald Trump takes office for his second term as the 47th president of the United States in the Rotunda of the U.S. Capitol in Washington, DC, on Monday, January 20, 2025. Donald Trump gestures...\u001b[0m\n",
      "Thought:\u001b[32;1m\u001b[1;3mAction:\n",
      "```\n",
      "{\n",
      "  \"action\": \"Final Answer\",\n",
      "  \"action_input\": \"Donald Trump\"\n",
      "}\n",
      "```\u001b[0m\n",
      "\n",
      "\u001b[1m> Finished chain.\u001b[0m\n"
     ]
    }
   ],
   "source": [
    "from deepeval.test_case import LLMTestCase\n",
    "from deepeval.metrics import ToolCorrectnessMetric\n",
    "\n",
    "test_cases = []\n",
    "for testcase in test_data:\n",
    "  response,tool, tool_input = query_ai_agent(testcase['input'])\n",
    "  test_case = LLMTestCase(\n",
    "    input=testcase['input'],\n",
    "    tools_called=[ToolCall(name=tool)],\n",
    "    actual_output=response,\n",
    "    expected_tools=testcase['tool_called']\n",
    "  )\n",
    "\n",
    "  test_cases.append(test_case)\n",
    "\n"
   ]
  },
  {
   "cell_type": "code",
   "execution_count": 86,
   "metadata": {},
   "outputs": [
    {
     "data": {
      "text/plain": [
       "[LLMTestCase(input='What is the sum of 20 and 40', actual_output={'input': 'What is the sum of 20 and 40', 'output': 'The sum of 20 and 40 is 60.', 'intermediate_steps': [(AgentAction(tool='add_numbers', tool_input={'a': 20, 'b': 40}, log='Action:\\n```\\n{\\n  \"action\": \"add_numbers\",\\n  \"action_input\": {\\n    \"a\": 20,\\n    \"b\": 40\\n  }\\n}\\n```'), 60)]}, expected_output=None, context=None, retrieval_context=None, additional_metadata=None, comments=None, tools_called=[ToolCall(\n",
       "     name=\"add_numbers\"\n",
       " )], expected_tools=[ToolCall(\n",
       "     name=\"add_numbers\"\n",
       " )], reasoning=None, name=None),\n",
       " LLMTestCase(input='Who is the president of USA in 2025, just give me the name', actual_output={'input': 'Who is the president of USA in 2025, just give me the name', 'output': 'Donald Trump', 'intermediate_steps': [(AgentAction(tool='duckduckgo_search', tool_input='who is the president of USA in 2025', log='Thought: I can use DuckDuckGo to search for this information.\\n\\nAction:\\n```\\n{\\n  \"action\": \"duckduckgo_search\",\\n  \"action_input\": \"who is the president of USA in 2025\"\\n}\\n```'), \"The incumbent president is Donald Trump, who assumed office on January 20, 2025. [5][6] Since the office was established in 1789, 45 men have served in 47 presidencies; the discrepancy arises from two individuals elected to non-consecutive terms: Grover Cleveland is counted as the 22nd and 24th president of the United States, while Donald Trump ... Trump will take office at the presidential inauguration on Monday, 20 January 2025. At that point he will legally assume the role of president. Just how big was Donald Trump's election... WASHINGTON − Donald Trump was sworn in Monday as the 47th president of the United States, returning to the White House after overcoming four criminal indictments and two assassination... Donald Trump has officially become the 47th president of the United States. In a special ceremony called an inauguration, President Trump took over from Joe Biden as America's new leader. Donald Trump takes office for his second term as the 47th president of the United States in the Rotunda of the U.S. Capitol in Washington, DC, on Monday, January 20, 2025. Donald Trump gestures...\")]}, expected_output=None, context=None, retrieval_context=None, additional_metadata=None, comments=None, tools_called=[ToolCall(\n",
       "     name=\"duckduckgo_search\"\n",
       " )], expected_tools=[ToolCall(\n",
       "     name=\"duckduckgo_search\"\n",
       " )], reasoning=None, name=None)]"
      ]
     },
     "execution_count": 86,
     "metadata": {},
     "output_type": "execute_result"
    }
   ],
   "source": [
    "test_cases"
   ]
  },
  {
   "cell_type": "code",
   "execution_count": 88,
   "metadata": {},
   "outputs": [
    {
     "data": {
      "text/html": [
       "<pre style=\"white-space:pre;overflow-x:auto;line-height:normal;font-family:Menlo,'DejaVu Sans Mono',consolas,'Courier New',monospace\">/Users/karthik/tryout/aiqaDemo/myenv312/lib/python3.12/site-packages/rich/live.py:231: UserWarning: install \n",
       "\"ipywidgets\" for Jupyter support\n",
       "  warnings.warn('install \"ipywidgets\" for Jupyter support')\n",
       "</pre>\n"
      ],
      "text/plain": [
       "/Users/karthik/tryout/aiqaDemo/myenv312/lib/python3.12/site-packages/rich/live.py:231: UserWarning: install \n",
       "\"ipywidgets\" for Jupyter support\n",
       "  warnings.warn('install \"ipywidgets\" for Jupyter support')\n"
      ]
     },
     "metadata": {},
     "output_type": "display_data"
    },
    {
     "data": {
      "text/html": [
       "<pre style=\"white-space:pre;overflow-x:auto;line-height:normal;font-family:Menlo,'DejaVu Sans Mono',consolas,'Courier New',monospace\"></pre>\n"
      ],
      "text/plain": []
     },
     "metadata": {},
     "output_type": "display_data"
    },
    {
     "name": "stdout",
     "output_type": "stream",
     "text": [
      "1.0\n",
      "All expected tools ['add_numbers'] were called (order not considered).\n",
      "[ToolCall(\n",
      "    name=\"add_numbers\"\n",
      ")]\n"
     ]
    },
    {
     "data": {
      "text/html": [
       "<pre style=\"white-space:pre;overflow-x:auto;line-height:normal;font-family:Menlo,'DejaVu Sans Mono',consolas,'Courier New',monospace\"></pre>\n"
      ],
      "text/plain": []
     },
     "metadata": {},
     "output_type": "display_data"
    },
    {
     "name": "stdout",
     "output_type": "stream",
     "text": [
      "1.0\n",
      "All expected tools ['duckduckgo_search'] were called (order not considered).\n",
      "[ToolCall(\n",
      "    name=\"duckduckgo_search\"\n",
      ")]\n"
     ]
    }
   ],
   "source": [
    "metrics = ToolCorrectnessMetric()\n",
    "\n",
    "for testcase in test_cases:\n",
    "    metrics.measure(test_case=testcase)\n",
    "    print(metrics.score)\n",
    "    print(metrics.reason)\n",
    "    print(metrics.expected_tools)"
   ]
  }
 ],
 "metadata": {
  "kernelspec": {
   "display_name": "myenv312",
   "language": "python",
   "name": "python3"
  },
  "language_info": {
   "codemirror_mode": {
    "name": "ipython",
    "version": 3
   },
   "file_extension": ".py",
   "mimetype": "text/x-python",
   "name": "python",
   "nbconvert_exporter": "python",
   "pygments_lexer": "ipython3",
   "version": "3.12.7"
  }
 },
 "nbformat": 4,
 "nbformat_minor": 2
}
