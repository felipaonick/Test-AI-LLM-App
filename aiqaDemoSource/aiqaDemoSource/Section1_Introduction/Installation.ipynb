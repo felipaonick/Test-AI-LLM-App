{
 "cells": [
  {
   "cell_type": "markdown",
   "metadata": {},
   "source": [
    "### Installation of DeepEval"
   ]
  },
  {
   "cell_type": "code",
   "execution_count": 9,
   "metadata": {},
   "outputs": [
    {
     "name": "stdout",
     "output_type": "stream",
     "text": [
      "Requirement already satisfied: deepeval in /Users/karthik/tryout/aiqaDemo/myenv312/lib/python3.12/site-packages (2.5.8)\n",
      "Collecting deepeval\n",
      "  Downloading deepeval-2.5.9-py3-none-any.whl.metadata (15 kB)\n",
      "Requirement already satisfied: aiohttp in /Users/karthik/tryout/aiqaDemo/myenv312/lib/python3.12/site-packages (from deepeval) (3.11.14)\n",
      "Requirement already satisfied: black in /Users/karthik/tryout/aiqaDemo/myenv312/lib/python3.12/site-packages (from deepeval) (25.1.0)\n",
      "Requirement already satisfied: coverage in /Users/karthik/tryout/aiqaDemo/myenv312/lib/python3.12/site-packages (from deepeval) (7.7.0)\n",
      "Requirement already satisfied: grpcio<2.0.0,>=1.67.1 in /Users/karthik/tryout/aiqaDemo/myenv312/lib/python3.12/site-packages (from deepeval) (1.71.0)\n",
      "Requirement already satisfied: instructor in /Users/karthik/tryout/aiqaDemo/myenv312/lib/python3.12/site-packages (from deepeval) (1.7.7)\n",
      "Requirement already satisfied: langchain_community in /Users/karthik/tryout/aiqaDemo/myenv312/lib/python3.12/site-packages (from deepeval) (0.3.19)\n",
      "Requirement already satisfied: langchain_openai in /Users/karthik/tryout/aiqaDemo/myenv312/lib/python3.12/site-packages (from deepeval) (0.3.9)\n",
      "Requirement already satisfied: llama-index in /Users/karthik/tryout/aiqaDemo/myenv312/lib/python3.12/site-packages (from deepeval) (0.12.24)\n",
      "Requirement already satisfied: ollama in /Users/karthik/tryout/aiqaDemo/myenv312/lib/python3.12/site-packages (from deepeval) (0.4.7)\n",
      "Requirement already satisfied: openai in /Users/karthik/tryout/aiqaDemo/myenv312/lib/python3.12/site-packages (from deepeval) (1.66.3)\n",
      "Requirement already satisfied: opentelemetry-api<2.0.0,>=1.24.0 in /Users/karthik/tryout/aiqaDemo/myenv312/lib/python3.12/site-packages (from deepeval) (1.31.0)\n",
      "Requirement already satisfied: opentelemetry-exporter-otlp-proto-grpc<2.0.0,>=1.24.0 in /Users/karthik/tryout/aiqaDemo/myenv312/lib/python3.12/site-packages (from deepeval) (1.31.0)\n",
      "Requirement already satisfied: opentelemetry-sdk<2.0.0,>=1.24.0 in /Users/karthik/tryout/aiqaDemo/myenv312/lib/python3.12/site-packages (from deepeval) (1.31.0)\n",
      "Requirement already satisfied: portalocker in /Users/karthik/tryout/aiqaDemo/myenv312/lib/python3.12/site-packages (from deepeval) (3.1.1)\n",
      "Requirement already satisfied: pytest<8.0.0,>=7.4.3 in /Users/karthik/tryout/aiqaDemo/myenv312/lib/python3.12/site-packages (from deepeval) (7.4.4)\n",
      "Requirement already satisfied: pytest-asyncio<0.22.0,>=0.21.1 in /Users/karthik/tryout/aiqaDemo/myenv312/lib/python3.12/site-packages (from deepeval) (0.21.2)\n",
      "Requirement already satisfied: pytest-repeat in /Users/karthik/tryout/aiqaDemo/myenv312/lib/python3.12/site-packages (from deepeval) (0.9.3)\n",
      "Requirement already satisfied: pytest-rerunfailures<13.0,>=12.0 in /Users/karthik/tryout/aiqaDemo/myenv312/lib/python3.12/site-packages (from deepeval) (12.0)\n",
      "Requirement already satisfied: pytest-xdist in /Users/karthik/tryout/aiqaDemo/myenv312/lib/python3.12/site-packages (from deepeval) (3.6.1)\n",
      "Requirement already satisfied: requests<3.0.0,>=2.31.0 in /Users/karthik/tryout/aiqaDemo/myenv312/lib/python3.12/site-packages (from deepeval) (2.32.3)\n",
      "Requirement already satisfied: rich<14.0.0,>=13.6.0 in /Users/karthik/tryout/aiqaDemo/myenv312/lib/python3.12/site-packages (from deepeval) (13.9.4)\n",
      "Requirement already satisfied: sentry-sdk<2.0.0,>=1.33.1 in /Users/karthik/tryout/aiqaDemo/myenv312/lib/python3.12/site-packages (from deepeval) (1.45.1)\n",
      "Requirement already satisfied: setuptools in /Users/karthik/tryout/aiqaDemo/myenv312/lib/python3.12/site-packages (from deepeval) (76.1.0)\n",
      "Requirement already satisfied: tabulate<0.10.0,>=0.9.0 in /Users/karthik/tryout/aiqaDemo/myenv312/lib/python3.12/site-packages (from deepeval) (0.9.0)\n",
      "Requirement already satisfied: tenacity<=9.0.0 in /Users/karthik/tryout/aiqaDemo/myenv312/lib/python3.12/site-packages (from deepeval) (9.0.0)\n",
      "Requirement already satisfied: tqdm<5.0.0,>=4.66.1 in /Users/karthik/tryout/aiqaDemo/myenv312/lib/python3.12/site-packages (from deepeval) (4.67.1)\n",
      "Requirement already satisfied: twine==5.1.1 in /Users/karthik/tryout/aiqaDemo/myenv312/lib/python3.12/site-packages (from deepeval) (5.1.1)\n",
      "Requirement already satisfied: typer in /Users/karthik/tryout/aiqaDemo/myenv312/lib/python3.12/site-packages (from deepeval) (0.15.2)\n",
      "Requirement already satisfied: wheel in /Users/karthik/tryout/aiqaDemo/myenv312/lib/python3.12/site-packages (from deepeval) (0.45.1)\n",
      "Requirement already satisfied: pkginfo>=1.8.1 in /Users/karthik/tryout/aiqaDemo/myenv312/lib/python3.12/site-packages (from twine==5.1.1->deepeval) (1.10.0)\n",
      "Requirement already satisfied: readme-renderer>=35.0 in /Users/karthik/tryout/aiqaDemo/myenv312/lib/python3.12/site-packages (from twine==5.1.1->deepeval) (44.0)\n",
      "Requirement already satisfied: requests-toolbelt!=0.9.0,>=0.8.0 in /Users/karthik/tryout/aiqaDemo/myenv312/lib/python3.12/site-packages (from twine==5.1.1->deepeval) (1.0.0)\n",
      "Requirement already satisfied: urllib3>=1.26.0 in /Users/karthik/tryout/aiqaDemo/myenv312/lib/python3.12/site-packages (from twine==5.1.1->deepeval) (2.3.0)\n",
      "Requirement already satisfied: importlib-metadata>=3.6 in /Users/karthik/tryout/aiqaDemo/myenv312/lib/python3.12/site-packages (from twine==5.1.1->deepeval) (8.6.1)\n",
      "Requirement already satisfied: keyring>=15.1 in /Users/karthik/tryout/aiqaDemo/myenv312/lib/python3.12/site-packages (from twine==5.1.1->deepeval) (25.6.0)\n",
      "Requirement already satisfied: rfc3986>=1.4.0 in /Users/karthik/tryout/aiqaDemo/myenv312/lib/python3.12/site-packages (from twine==5.1.1->deepeval) (2.0.0)\n",
      "Requirement already satisfied: deprecated>=1.2.6 in /Users/karthik/tryout/aiqaDemo/myenv312/lib/python3.12/site-packages (from opentelemetry-api<2.0.0,>=1.24.0->deepeval) (1.2.18)\n",
      "Requirement already satisfied: googleapis-common-protos~=1.52 in /Users/karthik/tryout/aiqaDemo/myenv312/lib/python3.12/site-packages (from opentelemetry-exporter-otlp-proto-grpc<2.0.0,>=1.24.0->deepeval) (1.69.2)\n",
      "Requirement already satisfied: opentelemetry-exporter-otlp-proto-common==1.31.0 in /Users/karthik/tryout/aiqaDemo/myenv312/lib/python3.12/site-packages (from opentelemetry-exporter-otlp-proto-grpc<2.0.0,>=1.24.0->deepeval) (1.31.0)\n",
      "Requirement already satisfied: opentelemetry-proto==1.31.0 in /Users/karthik/tryout/aiqaDemo/myenv312/lib/python3.12/site-packages (from opentelemetry-exporter-otlp-proto-grpc<2.0.0,>=1.24.0->deepeval) (1.31.0)\n",
      "Requirement already satisfied: protobuf<6.0,>=5.0 in /Users/karthik/tryout/aiqaDemo/myenv312/lib/python3.12/site-packages (from opentelemetry-proto==1.31.0->opentelemetry-exporter-otlp-proto-grpc<2.0.0,>=1.24.0->deepeval) (5.29.3)\n",
      "Requirement already satisfied: opentelemetry-semantic-conventions==0.52b0 in /Users/karthik/tryout/aiqaDemo/myenv312/lib/python3.12/site-packages (from opentelemetry-sdk<2.0.0,>=1.24.0->deepeval) (0.52b0)\n",
      "Requirement already satisfied: typing-extensions>=3.7.4 in /Users/karthik/tryout/aiqaDemo/myenv312/lib/python3.12/site-packages (from opentelemetry-sdk<2.0.0,>=1.24.0->deepeval) (4.12.2)\n",
      "Requirement already satisfied: iniconfig in /Users/karthik/tryout/aiqaDemo/myenv312/lib/python3.12/site-packages (from pytest<8.0.0,>=7.4.3->deepeval) (2.0.0)\n",
      "Requirement already satisfied: packaging in /Users/karthik/tryout/aiqaDemo/myenv312/lib/python3.12/site-packages (from pytest<8.0.0,>=7.4.3->deepeval) (24.2)\n",
      "Requirement already satisfied: pluggy<2.0,>=0.12 in /Users/karthik/tryout/aiqaDemo/myenv312/lib/python3.12/site-packages (from pytest<8.0.0,>=7.4.3->deepeval) (1.5.0)\n",
      "Requirement already satisfied: charset-normalizer<4,>=2 in /Users/karthik/tryout/aiqaDemo/myenv312/lib/python3.12/site-packages (from requests<3.0.0,>=2.31.0->deepeval) (3.4.1)\n",
      "Requirement already satisfied: idna<4,>=2.5 in /Users/karthik/tryout/aiqaDemo/myenv312/lib/python3.12/site-packages (from requests<3.0.0,>=2.31.0->deepeval) (3.10)\n",
      "Requirement already satisfied: certifi>=2017.4.17 in /Users/karthik/tryout/aiqaDemo/myenv312/lib/python3.12/site-packages (from requests<3.0.0,>=2.31.0->deepeval) (2025.1.31)\n",
      "Requirement already satisfied: markdown-it-py>=2.2.0 in /Users/karthik/tryout/aiqaDemo/myenv312/lib/python3.12/site-packages (from rich<14.0.0,>=13.6.0->deepeval) (3.0.0)\n",
      "Requirement already satisfied: pygments<3.0.0,>=2.13.0 in /Users/karthik/tryout/aiqaDemo/myenv312/lib/python3.12/site-packages (from rich<14.0.0,>=13.6.0->deepeval) (2.19.1)\n",
      "Requirement already satisfied: aiohappyeyeballs>=2.3.0 in /Users/karthik/tryout/aiqaDemo/myenv312/lib/python3.12/site-packages (from aiohttp->deepeval) (2.6.1)\n",
      "Requirement already satisfied: aiosignal>=1.1.2 in /Users/karthik/tryout/aiqaDemo/myenv312/lib/python3.12/site-packages (from aiohttp->deepeval) (1.3.2)\n",
      "Requirement already satisfied: attrs>=17.3.0 in /Users/karthik/tryout/aiqaDemo/myenv312/lib/python3.12/site-packages (from aiohttp->deepeval) (25.3.0)\n",
      "Requirement already satisfied: frozenlist>=1.1.1 in /Users/karthik/tryout/aiqaDemo/myenv312/lib/python3.12/site-packages (from aiohttp->deepeval) (1.5.0)\n",
      "Requirement already satisfied: multidict<7.0,>=4.5 in /Users/karthik/tryout/aiqaDemo/myenv312/lib/python3.12/site-packages (from aiohttp->deepeval) (6.2.0)\n",
      "Requirement already satisfied: propcache>=0.2.0 in /Users/karthik/tryout/aiqaDemo/myenv312/lib/python3.12/site-packages (from aiohttp->deepeval) (0.3.0)\n",
      "Requirement already satisfied: yarl<2.0,>=1.17.0 in /Users/karthik/tryout/aiqaDemo/myenv312/lib/python3.12/site-packages (from aiohttp->deepeval) (1.18.3)\n",
      "Requirement already satisfied: click>=8.0.0 in /Users/karthik/tryout/aiqaDemo/myenv312/lib/python3.12/site-packages (from black->deepeval) (8.1.8)\n",
      "Requirement already satisfied: mypy-extensions>=0.4.3 in /Users/karthik/tryout/aiqaDemo/myenv312/lib/python3.12/site-packages (from black->deepeval) (1.0.0)\n",
      "Requirement already satisfied: pathspec>=0.9.0 in /Users/karthik/tryout/aiqaDemo/myenv312/lib/python3.12/site-packages (from black->deepeval) (0.12.1)\n",
      "Requirement already satisfied: platformdirs>=2 in /Users/karthik/tryout/aiqaDemo/myenv312/lib/python3.12/site-packages (from black->deepeval) (4.3.6)\n",
      "Requirement already satisfied: docstring-parser<1.0,>=0.16 in /Users/karthik/tryout/aiqaDemo/myenv312/lib/python3.12/site-packages (from instructor->deepeval) (0.16)\n",
      "Requirement already satisfied: jinja2<4.0.0,>=3.1.4 in /Users/karthik/tryout/aiqaDemo/myenv312/lib/python3.12/site-packages (from instructor->deepeval) (3.1.6)\n",
      "Requirement already satisfied: jiter<0.9,>=0.6.1 in /Users/karthik/tryout/aiqaDemo/myenv312/lib/python3.12/site-packages (from instructor->deepeval) (0.8.2)\n",
      "Requirement already satisfied: pydantic-core<3.0.0,>=2.18.0 in /Users/karthik/tryout/aiqaDemo/myenv312/lib/python3.12/site-packages (from instructor->deepeval) (2.27.2)\n",
      "Requirement already satisfied: pydantic<3.0.0,>=2.8.0 in /Users/karthik/tryout/aiqaDemo/myenv312/lib/python3.12/site-packages (from instructor->deepeval) (2.10.6)\n",
      "Requirement already satisfied: anyio<5,>=3.5.0 in /Users/karthik/tryout/aiqaDemo/myenv312/lib/python3.12/site-packages (from openai->deepeval) (4.9.0)\n",
      "Requirement already satisfied: distro<2,>=1.7.0 in /Users/karthik/tryout/aiqaDemo/myenv312/lib/python3.12/site-packages (from openai->deepeval) (1.9.0)\n",
      "Requirement already satisfied: httpx<1,>=0.23.0 in /Users/karthik/tryout/aiqaDemo/myenv312/lib/python3.12/site-packages (from openai->deepeval) (0.28.1)\n",
      "Requirement already satisfied: sniffio in /Users/karthik/tryout/aiqaDemo/myenv312/lib/python3.12/site-packages (from openai->deepeval) (1.3.1)\n",
      "Requirement already satisfied: shellingham>=1.3.0 in /Users/karthik/tryout/aiqaDemo/myenv312/lib/python3.12/site-packages (from typer->deepeval) (1.5.4)\n",
      "Requirement already satisfied: langchain-core<1.0.0,>=0.3.41 in /Users/karthik/tryout/aiqaDemo/myenv312/lib/python3.12/site-packages (from langchain_community->deepeval) (0.3.45)\n",
      "Requirement already satisfied: langchain<1.0.0,>=0.3.20 in /Users/karthik/tryout/aiqaDemo/myenv312/lib/python3.12/site-packages (from langchain_community->deepeval) (0.3.20)\n",
      "Requirement already satisfied: SQLAlchemy<3,>=1.4 in /Users/karthik/tryout/aiqaDemo/myenv312/lib/python3.12/site-packages (from langchain_community->deepeval) (2.0.39)\n",
      "Requirement already satisfied: PyYAML>=5.3 in /Users/karthik/tryout/aiqaDemo/myenv312/lib/python3.12/site-packages (from langchain_community->deepeval) (6.0.2)\n",
      "Requirement already satisfied: dataclasses-json<0.7,>=0.5.7 in /Users/karthik/tryout/aiqaDemo/myenv312/lib/python3.12/site-packages (from langchain_community->deepeval) (0.6.7)\n",
      "Requirement already satisfied: pydantic-settings<3.0.0,>=2.4.0 in /Users/karthik/tryout/aiqaDemo/myenv312/lib/python3.12/site-packages (from langchain_community->deepeval) (2.8.1)\n",
      "Requirement already satisfied: langsmith<0.4,>=0.1.125 in /Users/karthik/tryout/aiqaDemo/myenv312/lib/python3.12/site-packages (from langchain_community->deepeval) (0.3.15)\n",
      "Requirement already satisfied: httpx-sse<1.0.0,>=0.4.0 in /Users/karthik/tryout/aiqaDemo/myenv312/lib/python3.12/site-packages (from langchain_community->deepeval) (0.4.0)\n",
      "Requirement already satisfied: numpy<3,>=1.26.2 in /Users/karthik/tryout/aiqaDemo/myenv312/lib/python3.12/site-packages (from langchain_community->deepeval) (2.2.4)\n",
      "Requirement already satisfied: tiktoken<1,>=0.7 in /Users/karthik/tryout/aiqaDemo/myenv312/lib/python3.12/site-packages (from langchain_openai->deepeval) (0.9.0)\n",
      "Requirement already satisfied: llama-index-agent-openai<0.5.0,>=0.4.0 in /Users/karthik/tryout/aiqaDemo/myenv312/lib/python3.12/site-packages (from llama-index->deepeval) (0.4.6)\n",
      "Requirement already satisfied: llama-index-cli<0.5.0,>=0.4.1 in /Users/karthik/tryout/aiqaDemo/myenv312/lib/python3.12/site-packages (from llama-index->deepeval) (0.4.1)\n",
      "Requirement already satisfied: llama-index-core<0.13.0,>=0.12.24 in /Users/karthik/tryout/aiqaDemo/myenv312/lib/python3.12/site-packages (from llama-index->deepeval) (0.12.24.post1)\n",
      "Requirement already satisfied: llama-index-embeddings-openai<0.4.0,>=0.3.0 in /Users/karthik/tryout/aiqaDemo/myenv312/lib/python3.12/site-packages (from llama-index->deepeval) (0.3.1)\n",
      "Requirement already satisfied: llama-index-indices-managed-llama-cloud>=0.4.0 in /Users/karthik/tryout/aiqaDemo/myenv312/lib/python3.12/site-packages (from llama-index->deepeval) (0.6.9)\n",
      "Requirement already satisfied: llama-index-llms-openai<0.4.0,>=0.3.0 in /Users/karthik/tryout/aiqaDemo/myenv312/lib/python3.12/site-packages (from llama-index->deepeval) (0.3.25)\n",
      "Requirement already satisfied: llama-index-multi-modal-llms-openai<0.5.0,>=0.4.0 in /Users/karthik/tryout/aiqaDemo/myenv312/lib/python3.12/site-packages (from llama-index->deepeval) (0.4.3)\n",
      "Requirement already satisfied: llama-index-program-openai<0.4.0,>=0.3.0 in /Users/karthik/tryout/aiqaDemo/myenv312/lib/python3.12/site-packages (from llama-index->deepeval) (0.3.1)\n",
      "Requirement already satisfied: llama-index-question-gen-openai<0.4.0,>=0.3.0 in /Users/karthik/tryout/aiqaDemo/myenv312/lib/python3.12/site-packages (from llama-index->deepeval) (0.3.0)\n",
      "Requirement already satisfied: llama-index-readers-file<0.5.0,>=0.4.0 in /Users/karthik/tryout/aiqaDemo/myenv312/lib/python3.12/site-packages (from llama-index->deepeval) (0.4.6)\n",
      "Requirement already satisfied: llama-index-readers-llama-parse>=0.4.0 in /Users/karthik/tryout/aiqaDemo/myenv312/lib/python3.12/site-packages (from llama-index->deepeval) (0.4.0)\n",
      "Requirement already satisfied: nltk>3.8.1 in /Users/karthik/tryout/aiqaDemo/myenv312/lib/python3.12/site-packages (from llama-index->deepeval) (3.9.1)\n",
      "Requirement already satisfied: execnet>=2.1 in /Users/karthik/tryout/aiqaDemo/myenv312/lib/python3.12/site-packages (from pytest-xdist->deepeval) (2.1.1)\n",
      "Requirement already satisfied: marshmallow<4.0.0,>=3.18.0 in /Users/karthik/tryout/aiqaDemo/myenv312/lib/python3.12/site-packages (from dataclasses-json<0.7,>=0.5.7->langchain_community->deepeval) (3.26.1)\n",
      "Requirement already satisfied: typing-inspect<1,>=0.4.0 in /Users/karthik/tryout/aiqaDemo/myenv312/lib/python3.12/site-packages (from dataclasses-json<0.7,>=0.5.7->langchain_community->deepeval) (0.9.0)\n",
      "Requirement already satisfied: wrapt<2,>=1.10 in /Users/karthik/tryout/aiqaDemo/myenv312/lib/python3.12/site-packages (from deprecated>=1.2.6->opentelemetry-api<2.0.0,>=1.24.0->deepeval) (1.17.2)\n",
      "Requirement already satisfied: httpcore==1.* in /Users/karthik/tryout/aiqaDemo/myenv312/lib/python3.12/site-packages (from httpx<1,>=0.23.0->openai->deepeval) (1.0.7)\n",
      "Requirement already satisfied: h11<0.15,>=0.13 in /Users/karthik/tryout/aiqaDemo/myenv312/lib/python3.12/site-packages (from httpcore==1.*->httpx<1,>=0.23.0->openai->deepeval) (0.14.0)\n",
      "Requirement already satisfied: zipp>=3.20 in /Users/karthik/tryout/aiqaDemo/myenv312/lib/python3.12/site-packages (from importlib-metadata>=3.6->twine==5.1.1->deepeval) (3.21.0)\n",
      "Requirement already satisfied: MarkupSafe>=2.0 in /Users/karthik/tryout/aiqaDemo/myenv312/lib/python3.12/site-packages (from jinja2<4.0.0,>=3.1.4->instructor->deepeval) (3.0.2)\n",
      "Requirement already satisfied: jaraco.classes in /Users/karthik/tryout/aiqaDemo/myenv312/lib/python3.12/site-packages (from keyring>=15.1->twine==5.1.1->deepeval) (3.4.0)\n",
      "Requirement already satisfied: jaraco.functools in /Users/karthik/tryout/aiqaDemo/myenv312/lib/python3.12/site-packages (from keyring>=15.1->twine==5.1.1->deepeval) (4.1.0)\n",
      "Requirement already satisfied: jaraco.context in /Users/karthik/tryout/aiqaDemo/myenv312/lib/python3.12/site-packages (from keyring>=15.1->twine==5.1.1->deepeval) (6.0.1)\n",
      "Requirement already satisfied: langchain-text-splitters<1.0.0,>=0.3.6 in /Users/karthik/tryout/aiqaDemo/myenv312/lib/python3.12/site-packages (from langchain<1.0.0,>=0.3.20->langchain_community->deepeval) (0.3.6)\n",
      "Requirement already satisfied: jsonpatch<2.0,>=1.33 in /Users/karthik/tryout/aiqaDemo/myenv312/lib/python3.12/site-packages (from langchain-core<1.0.0,>=0.3.41->langchain_community->deepeval) (1.33)\n",
      "Requirement already satisfied: orjson<4.0.0,>=3.9.14 in /Users/karthik/tryout/aiqaDemo/myenv312/lib/python3.12/site-packages (from langsmith<0.4,>=0.1.125->langchain_community->deepeval) (3.10.15)\n",
      "Requirement already satisfied: zstandard<0.24.0,>=0.23.0 in /Users/karthik/tryout/aiqaDemo/myenv312/lib/python3.12/site-packages (from langsmith<0.4,>=0.1.125->langchain_community->deepeval) (0.23.0)\n",
      "Requirement already satisfied: dirtyjson<2.0.0,>=1.0.8 in /Users/karthik/tryout/aiqaDemo/myenv312/lib/python3.12/site-packages (from llama-index-core<0.13.0,>=0.12.24->llama-index->deepeval) (1.0.8)\n",
      "Requirement already satisfied: filetype<2.0.0,>=1.2.0 in /Users/karthik/tryout/aiqaDemo/myenv312/lib/python3.12/site-packages (from llama-index-core<0.13.0,>=0.12.24->llama-index->deepeval) (1.2.0)\n",
      "Requirement already satisfied: fsspec>=2023.5.0 in /Users/karthik/tryout/aiqaDemo/myenv312/lib/python3.12/site-packages (from llama-index-core<0.13.0,>=0.12.24->llama-index->deepeval) (2025.3.0)\n",
      "Requirement already satisfied: nest-asyncio<2.0.0,>=1.5.8 in /Users/karthik/tryout/aiqaDemo/myenv312/lib/python3.12/site-packages (from llama-index-core<0.13.0,>=0.12.24->llama-index->deepeval) (1.6.0)\n",
      "Requirement already satisfied: networkx>=3.0 in /Users/karthik/tryout/aiqaDemo/myenv312/lib/python3.12/site-packages (from llama-index-core<0.13.0,>=0.12.24->llama-index->deepeval) (3.4.2)\n",
      "Requirement already satisfied: pillow>=9.0.0 in /Users/karthik/tryout/aiqaDemo/myenv312/lib/python3.12/site-packages (from llama-index-core<0.13.0,>=0.12.24->llama-index->deepeval) (11.1.0)\n",
      "Requirement already satisfied: llama-cloud<0.2.0,>=0.1.13 in /Users/karthik/tryout/aiqaDemo/myenv312/lib/python3.12/site-packages (from llama-index-indices-managed-llama-cloud>=0.4.0->llama-index->deepeval) (0.1.14)\n",
      "Requirement already satisfied: beautifulsoup4<5.0.0,>=4.12.3 in /Users/karthik/tryout/aiqaDemo/myenv312/lib/python3.12/site-packages (from llama-index-readers-file<0.5.0,>=0.4.0->llama-index->deepeval) (4.13.3)\n",
      "Requirement already satisfied: pandas in /Users/karthik/tryout/aiqaDemo/myenv312/lib/python3.12/site-packages (from llama-index-readers-file<0.5.0,>=0.4.0->llama-index->deepeval) (2.2.3)\n",
      "Requirement already satisfied: pypdf<6.0.0,>=5.1.0 in /Users/karthik/tryout/aiqaDemo/myenv312/lib/python3.12/site-packages (from llama-index-readers-file<0.5.0,>=0.4.0->llama-index->deepeval) (5.4.0)\n",
      "Requirement already satisfied: striprtf<0.0.27,>=0.0.26 in /Users/karthik/tryout/aiqaDemo/myenv312/lib/python3.12/site-packages (from llama-index-readers-file<0.5.0,>=0.4.0->llama-index->deepeval) (0.0.26)\n",
      "Requirement already satisfied: llama-parse>=0.5.0 in /Users/karthik/tryout/aiqaDemo/myenv312/lib/python3.12/site-packages (from llama-index-readers-llama-parse>=0.4.0->llama-index->deepeval) (0.6.4.post1)\n",
      "Requirement already satisfied: mdurl~=0.1 in /Users/karthik/tryout/aiqaDemo/myenv312/lib/python3.12/site-packages (from markdown-it-py>=2.2.0->rich<14.0.0,>=13.6.0->deepeval) (0.1.2)\n",
      "Requirement already satisfied: joblib in /Users/karthik/tryout/aiqaDemo/myenv312/lib/python3.12/site-packages (from nltk>3.8.1->llama-index->deepeval) (1.4.2)\n",
      "Requirement already satisfied: regex>=2021.8.3 in /Users/karthik/tryout/aiqaDemo/myenv312/lib/python3.12/site-packages (from nltk>3.8.1->llama-index->deepeval) (2024.11.6)\n",
      "Requirement already satisfied: annotated-types>=0.6.0 in /Users/karthik/tryout/aiqaDemo/myenv312/lib/python3.12/site-packages (from pydantic<3.0.0,>=2.8.0->instructor->deepeval) (0.7.0)\n",
      "Requirement already satisfied: python-dotenv>=0.21.0 in /Users/karthik/tryout/aiqaDemo/myenv312/lib/python3.12/site-packages (from pydantic-settings<3.0.0,>=2.4.0->langchain_community->deepeval) (1.0.1)\n",
      "Requirement already satisfied: nh3>=0.2.14 in /Users/karthik/tryout/aiqaDemo/myenv312/lib/python3.12/site-packages (from readme-renderer>=35.0->twine==5.1.1->deepeval) (0.2.21)\n",
      "Requirement already satisfied: docutils>=0.21.2 in /Users/karthik/tryout/aiqaDemo/myenv312/lib/python3.12/site-packages (from readme-renderer>=35.0->twine==5.1.1->deepeval) (0.21.2)\n",
      "Requirement already satisfied: soupsieve>1.2 in /Users/karthik/tryout/aiqaDemo/myenv312/lib/python3.12/site-packages (from beautifulsoup4<5.0.0,>=4.12.3->llama-index-readers-file<0.5.0,>=0.4.0->llama-index->deepeval) (2.6)\n",
      "Requirement already satisfied: jsonpointer>=1.9 in /Users/karthik/tryout/aiqaDemo/myenv312/lib/python3.12/site-packages (from jsonpatch<2.0,>=1.33->langchain-core<1.0.0,>=0.3.41->langchain_community->deepeval) (3.0.0)\n",
      "Requirement already satisfied: llama-cloud-services>=0.6.4 in /Users/karthik/tryout/aiqaDemo/myenv312/lib/python3.12/site-packages (from llama-parse>=0.5.0->llama-index-readers-llama-parse>=0.4.0->llama-index->deepeval) (0.6.5)\n",
      "Requirement already satisfied: greenlet!=0.4.17 in /Users/karthik/tryout/aiqaDemo/myenv312/lib/python3.12/site-packages (from SQLAlchemy[asyncio]>=1.4.49->llama-index-core<0.13.0,>=0.12.24->llama-index->deepeval) (3.1.1)\n",
      "Requirement already satisfied: more-itertools in /Users/karthik/tryout/aiqaDemo/myenv312/lib/python3.12/site-packages (from jaraco.classes->keyring>=15.1->twine==5.1.1->deepeval) (10.6.0)\n",
      "Requirement already satisfied: python-dateutil>=2.8.2 in /Users/karthik/tryout/aiqaDemo/myenv312/lib/python3.12/site-packages (from pandas->llama-index-readers-file<0.5.0,>=0.4.0->llama-index->deepeval) (2.9.0.post0)\n",
      "Requirement already satisfied: pytz>=2020.1 in /Users/karthik/tryout/aiqaDemo/myenv312/lib/python3.12/site-packages (from pandas->llama-index-readers-file<0.5.0,>=0.4.0->llama-index->deepeval) (2025.1)\n",
      "Requirement already satisfied: tzdata>=2022.7 in /Users/karthik/tryout/aiqaDemo/myenv312/lib/python3.12/site-packages (from pandas->llama-index-readers-file<0.5.0,>=0.4.0->llama-index->deepeval) (2025.1)\n",
      "Requirement already satisfied: six>=1.5 in /Users/karthik/tryout/aiqaDemo/myenv312/lib/python3.12/site-packages (from python-dateutil>=2.8.2->pandas->llama-index-readers-file<0.5.0,>=0.4.0->llama-index->deepeval) (1.17.0)\n",
      "Downloading deepeval-2.5.9-py3-none-any.whl (571 kB)\n",
      "\u001b[2K   \u001b[38;2;114;156;31m━━━━━━━━━━━━━━━━━━━━━━━━━━━━━━━━━━━━━━━━\u001b[0m \u001b[32m571.3/571.3 kB\u001b[0m \u001b[31m10.2 MB/s\u001b[0m eta \u001b[36m0:00:00\u001b[0m\n",
      "\u001b[?25hInstalling collected packages: deepeval\n",
      "  Attempting uninstall: deepeval\n",
      "    Found existing installation: deepeval 2.5.8\n",
      "    Uninstalling deepeval-2.5.8:\n",
      "      Successfully uninstalled deepeval-2.5.8\n",
      "Successfully installed deepeval-2.5.9\n",
      "\n",
      "\u001b[1m[\u001b[0m\u001b[34;49mnotice\u001b[0m\u001b[1;39;49m]\u001b[0m\u001b[39;49m A new release of pip is available: \u001b[0m\u001b[31;49m24.2\u001b[0m\u001b[39;49m -> \u001b[0m\u001b[32;49m25.0.1\u001b[0m\n",
      "\u001b[1m[\u001b[0m\u001b[34;49mnotice\u001b[0m\u001b[1;39;49m]\u001b[0m\u001b[39;49m To update, run: \u001b[0m\u001b[32;49mpip install --upgrade pip\u001b[0m\n"
     ]
    }
   ],
   "source": [
    "!pip install -U deepeval"
   ]
  },
  {
   "cell_type": "markdown",
   "metadata": {},
   "source": [
    "### Creating Confident AI login"
   ]
  },
  {
   "cell_type": "code",
   "execution_count": 2,
   "metadata": {},
   "outputs": [
    {
     "data": {
      "text/html": [
       "<pre style=\"white-space:pre;overflow-x:auto;line-height:normal;font-family:Menlo,'DejaVu Sans Mono',consolas,'Courier New',monospace\">🎉🥳 Congratulations! You've successfully logged in! 🙌 \n",
       "</pre>\n"
      ],
      "text/plain": [
       "🎉🥳 Congratulations! You've successfully logged in! 🙌 \n"
      ]
     },
     "metadata": {},
     "output_type": "display_data"
    }
   ],
   "source": [
    "import deepeval\n",
    "\n",
    "deepeval.login_with_confident_api_key(\"chf7LtTWtK1foTOAiK+vHFZ622I16kZtcpzfC+7FAVU=\")"
   ]
  },
  {
   "cell_type": "code",
   "execution_count": 7,
   "metadata": {},
   "outputs": [],
   "source": [
    "from dotenv import load_dotenv\n",
    "\n",
    "load = load_dotenv('./../.env')"
   ]
  },
  {
   "cell_type": "markdown",
   "metadata": {},
   "source": [
    "### Writing simple DeepEval Test"
   ]
  },
  {
   "cell_type": "markdown",
   "metadata": {},
   "source": [
    "### Answer Relevancy Metrics"
   ]
  },
  {
   "cell_type": "code",
   "execution_count": 1,
   "metadata": {},
   "outputs": [
    {
     "data": {
      "text/html": [
       "<pre style=\"white-space:pre;overflow-x:auto;line-height:normal;font-family:Menlo,'DejaVu Sans Mono',consolas,'Courier New',monospace\">/Users/karthik/tryout/aiqaDemo/myenv312/lib/python3.12/site-packages/rich/live.py:231: UserWarning: install \n",
       "\"ipywidgets\" for Jupyter support\n",
       "  warnings.warn('install \"ipywidgets\" for Jupyter support')\n",
       "</pre>\n"
      ],
      "text/plain": [
       "/Users/karthik/tryout/aiqaDemo/myenv312/lib/python3.12/site-packages/rich/live.py:231: UserWarning: install \n",
       "\"ipywidgets\" for Jupyter support\n",
       "  warnings.warn('install \"ipywidgets\" for Jupyter support')\n"
      ]
     },
     "metadata": {},
     "output_type": "display_data"
    },
    {
     "name": "stderr",
     "output_type": "stream",
     "text": [
      "/Users/karthik/tryout/aiqaDemo/myenv312/lib/python3.12/site-packages/deepeval/__init__.py:54: UserWarning: You are using deepeval version 2.5.9, however version 2.6.4 is available. You should consider upgrading via the \"pip install --upgrade deepeval\" command.\n",
      "  warnings.warn(\n"
     ]
    },
    {
     "data": {
      "text/html": [
       "<pre style=\"white-space:pre;overflow-x:auto;line-height:normal;font-family:Menlo,'DejaVu Sans Mono',consolas,'Courier New',monospace\"></pre>\n"
      ],
      "text/plain": []
     },
     "metadata": {},
     "output_type": "display_data"
    },
    {
     "name": "stdout",
     "output_type": "stream",
     "text": [
      "1.0\n"
     ]
    }
   ],
   "source": [
    "from deepeval.test_case import LLMTestCase\n",
    "from deepeval.metrics import AnswerRelevancyMetric\n",
    "\n",
    "answer_relevancy_metric = AnswerRelevancyMetric()\n",
    "test_case = LLMTestCase(\n",
    "  input=\"Who is the current president of the United States of America?\",\n",
    "  actual_output=\"Joe Biden\",\n",
    "  retrieval_context=[\"Joe Biden serves as the current president of America.\"]\n",
    ")\n",
    "\n",
    "answer_relevancy_metric.measure(test_case)\n",
    "print(answer_relevancy_metric.score)"
   ]
  },
  {
   "cell_type": "markdown",
   "metadata": {},
   "source": [
    "### Test using Contextual Precision Metrics"
   ]
  },
  {
   "cell_type": "code",
   "execution_count": 2,
   "metadata": {},
   "outputs": [
    {
     "data": {
      "text/html": [
       "<pre style=\"white-space:pre;overflow-x:auto;line-height:normal;font-family:Menlo,'DejaVu Sans Mono',consolas,'Courier New',monospace\">/Users/karthik/tryout/aiqaDemo/myenv312/lib/python3.12/site-packages/rich/live.py:231: UserWarning: install \n",
       "\"ipywidgets\" for Jupyter support\n",
       "  warnings.warn('install \"ipywidgets\" for Jupyter support')\n",
       "</pre>\n"
      ],
      "text/plain": [
       "/Users/karthik/tryout/aiqaDemo/myenv312/lib/python3.12/site-packages/rich/live.py:231: UserWarning: install \n",
       "\"ipywidgets\" for Jupyter support\n",
       "  warnings.warn('install \"ipywidgets\" for Jupyter support')\n"
      ]
     },
     "metadata": {},
     "output_type": "display_data"
    },
    {
     "data": {
      "text/html": [
       "<pre style=\"white-space:pre;overflow-x:auto;line-height:normal;font-family:Menlo,'DejaVu Sans Mono',consolas,'Courier New',monospace\"></pre>\n"
      ],
      "text/plain": []
     },
     "metadata": {},
     "output_type": "display_data"
    },
    {
     "name": "stdout",
     "output_type": "stream",
     "text": [
      "1.0\n",
      "True\n",
      "None\n"
     ]
    }
   ],
   "source": [
    "from deepeval.test_case import LLMTestCase\n",
    "from deepeval.metrics import ContextualPrecisionMetric\n",
    "\n",
    "contextual_precision_metrics = ContextualPrecisionMetric()\n",
    "\n",
    "test_case = LLMTestCase(\n",
    "    input=\"Who is the current president of USA in 2024\",\n",
    "    # Should come from an LLM or from an Agent or RAG\n",
    "    actual_output=\"Donald Trump\",\n",
    "    # RAG - Vector DB, AI Agent - Agent Tools, LLM - LLM invoke response\n",
    "    retrieval_context=[\"Donald Trump serves as the current president of America.\"],\n",
    "    expected_output=\"Donald Trump is the current president of America.\"\n",
    ")\n",
    "\n",
    "contextual_precision_metrics.measure(test_case=test_case)\n",
    "print(contextual_precision_metrics.score)\n",
    "print(contextual_precision_metrics.success)\n",
    "print(contextual_precision_metrics.score_breakdown)\n",
    "\n"
   ]
  },
  {
   "cell_type": "markdown",
   "metadata": {},
   "source": [
    "### EvaluationDataSet to evaluate our Tests"
   ]
  },
  {
   "cell_type": "code",
   "execution_count": 3,
   "metadata": {},
   "outputs": [],
   "source": [
    "from deepeval.test_case import LLMTestCase\n",
    "from deepeval.metrics import AnswerRelevancyMetric\n",
    "from deepeval.dataset import EvaluationDataset\n",
    "\n",
    "answer_relevancy_metric = AnswerRelevancyMetric()\n",
    "test_case = LLMTestCase(\n",
    "  input=\"Who is the current president of the United States of America?\",\n",
    "  actual_output=\"Joe Biden\",\n",
    "  retrieval_context=[\"Joe Biden serves as the current president of America.\"]\n",
    ")\n",
    "\n",
    "\n",
    "dataset = EvaluationDataset(test_cases=[test_case])"
   ]
  },
  {
   "cell_type": "code",
   "execution_count": 4,
   "metadata": {},
   "outputs": [
    {
     "data": {
      "text/plain": [
       "EvaluationDataset(test_cases=[LLMTestCase(input='Who is the current president of the United States of America?', actual_output='Joe Biden', expected_output=None, context=None, retrieval_context=['Joe Biden serves as the current president of America.'], additional_metadata=None, comments=None, tools_called=None, expected_tools=None, reasoning=None, name=None)], goldens=[], conversational_goldens=[], _alias=None, _id=None)"
      ]
     },
     "execution_count": 4,
     "metadata": {},
     "output_type": "execute_result"
    }
   ],
   "source": [
    "dataset"
   ]
  },
  {
   "cell_type": "markdown",
   "metadata": {},
   "source": [
    "### Evaluation of dataset"
   ]
  },
  {
   "cell_type": "code",
   "execution_count": 5,
   "metadata": {},
   "outputs": [
    {
     "data": {
      "text/html": [
       "<pre style=\"white-space:pre;overflow-x:auto;line-height:normal;font-family:Menlo,'DejaVu Sans Mono',consolas,'Courier New',monospace\">✨ You're running DeepEval's latest <span style=\"color: #6a00ff; text-decoration-color: #6a00ff\">Answer Relevancy Metric</span>! <span style=\"color: #374151; text-decoration-color: #374151; font-weight: bold\">(</span><span style=\"color: #374151; text-decoration-color: #374151\">using gpt-4o, </span><span style=\"color: #374151; text-decoration-color: #374151\">strict</span><span style=\"color: #374151; text-decoration-color: #374151\">=</span><span style=\"color: #374151; text-decoration-color: #374151; font-style: italic\">False</span><span style=\"color: #374151; text-decoration-color: #374151\">, </span><span style=\"color: #374151; text-decoration-color: #374151\">async_mode</span><span style=\"color: #374151; text-decoration-color: #374151\">=</span><span style=\"color: #374151; text-decoration-color: #374151; font-style: italic\">True</span><span style=\"color: #374151; text-decoration-color: #374151; font-weight: bold\">)</span><span style=\"color: #374151; text-decoration-color: #374151\">...</span>\n",
       "</pre>\n"
      ],
      "text/plain": [
       "✨ You're running DeepEval's latest \u001b[38;2;106;0;255mAnswer Relevancy Metric\u001b[0m! \u001b[1;38;2;55;65;81m(\u001b[0m\u001b[38;2;55;65;81musing gpt-4o, \u001b[0m\u001b[38;2;55;65;81mstrict\u001b[0m\u001b[38;2;55;65;81m=\u001b[0m\u001b[3;38;2;55;65;81mFalse\u001b[0m\u001b[38;2;55;65;81m, \u001b[0m\u001b[38;2;55;65;81masync_mode\u001b[0m\u001b[38;2;55;65;81m=\u001b[0m\u001b[3;38;2;55;65;81mTrue\u001b[0m\u001b[1;38;2;55;65;81m)\u001b[0m\u001b[38;2;55;65;81m...\u001b[0m\n"
      ]
     },
     "metadata": {},
     "output_type": "display_data"
    },
    {
     "name": "stderr",
     "output_type": "stream",
     "text": [
      "Evaluating 1 test case(s) in parallel: |██████████|100% (1/1) [Time Taken: 00:03,  3.34s/test case]\n"
     ]
    },
    {
     "name": "stdout",
     "output_type": "stream",
     "text": [
      "\n",
      "======================================================================\n",
      "\n",
      "Metrics Summary\n",
      "\n",
      "  - ✅ Answer Relevancy (score: 1.0, threshold: 0.5, strict: False, evaluation model: gpt-4o, reason: The score is 1.00 because the answer perfectly aligns with the query, providing accurate and relevant information without any irrelevant statements. Well done on keeping it concise and precise!, error: None)\n",
      "\n",
      "For test case:\n",
      "\n",
      "  - input: Who is the current president of the United States of America?\n",
      "  - actual output: Joe Biden\n",
      "  - expected output: None\n",
      "  - context: None\n",
      "  - retrieval context: ['Joe Biden serves as the current president of America.']\n",
      "\n",
      "======================================================================\n",
      "\n",
      "Overall Metric Pass Rates\n",
      "\n",
      "Answer Relevancy: 100.00% pass rate\n",
      "\n",
      "======================================================================\n",
      "\n"
     ]
    },
    {
     "data": {
      "text/html": [
       "<pre style=\"white-space:pre;overflow-x:auto;line-height:normal;font-family:Menlo,'DejaVu Sans Mono',consolas,'Courier New',monospace\"><span style=\"color: #05f58d; text-decoration-color: #05f58d\">✓</span> Tests finished 🎉! View results on \n",
       "<a href=\"https://app.confident-ai.com/project/cm8dzjvmw19bi7x4v8swskpku/evaluation/test-runs/cm8esf14e174yxkx7t5brstcp/test-cases\" target=\"_blank\"><span style=\"color: #0000ff; text-decoration-color: #0000ff; text-decoration: underline\">https://app.confident-ai.com/project/cm8dzjvmw19bi7x4v8swskpku/evaluation/test-runs/cm8esf14e174yxkx7t5brstcp/test-</span></a>\n",
       "<a href=\"https://app.confident-ai.com/project/cm8dzjvmw19bi7x4v8swskpku/evaluation/test-runs/cm8esf14e174yxkx7t5brstcp/test-cases\" target=\"_blank\"><span style=\"color: #0000ff; text-decoration-color: #0000ff; text-decoration: underline\">cases</span></a><span style=\"color: #0000ff; text-decoration-color: #0000ff; text-decoration: underline\">.</span>\n",
       "</pre>\n"
      ],
      "text/plain": [
       "\u001b[38;2;5;245;141m✓\u001b[0m Tests finished 🎉! View results on \n",
       "\u001b]8;id=673896;https://app.confident-ai.com/project/cm8dzjvmw19bi7x4v8swskpku/evaluation/test-runs/cm8esf14e174yxkx7t5brstcp/test-cases\u001b\\\u001b[4;94mhttps://app.confident-ai.com/project/cm8dzjvmw19bi7x4v8swskpku/evaluation/test-runs/cm8esf14e174yxkx7t5brstcp/test-\u001b[0m\u001b]8;;\u001b\\\n",
       "\u001b]8;id=673896;https://app.confident-ai.com/project/cm8dzjvmw19bi7x4v8swskpku/evaluation/test-runs/cm8esf14e174yxkx7t5brstcp/test-cases\u001b\\\u001b[4;94mcases\u001b[0m\u001b]8;;\u001b\\\u001b[4;94m.\u001b[0m\n"
      ]
     },
     "metadata": {},
     "output_type": "display_data"
    },
    {
     "data": {
      "text/plain": [
       "EvaluationResult(test_results=[TestResult(name='test_case_0', success=True, metrics_data=[MetricData(name='Answer Relevancy', threshold=0.5, success=True, score=1.0, reason='The score is 1.00 because the answer perfectly aligns with the query, providing accurate and relevant information without any irrelevant statements. Well done on keeping it concise and precise!', strict_mode=False, evaluation_model='gpt-4o', error=None, evaluation_cost=0.0035525, verbose_logs='Statements:\\n[\\n    \"Joe Biden is referenced.\"\\n] \\n \\nVerdicts:\\n[\\n    {\\n        \"verdict\": \"yes\",\\n        \"reason\": null\\n    }\\n]')], conversational=False, multimodal=False, input='Who is the current president of the United States of America?', actual_output='Joe Biden', expected_output=None, context=None, retrieval_context=['Joe Biden serves as the current president of America.'])], confident_link='https://app.confident-ai.com/project/cm8dzjvmw19bi7x4v8swskpku/evaluation/test-runs/cm8esf14e174yxkx7t5brstcp/test-cases')"
      ]
     },
     "execution_count": 5,
     "metadata": {},
     "output_type": "execute_result"
    }
   ],
   "source": [
    "dataset.evaluate(metrics=[answer_relevancy_metric])"
   ]
  },
  {
   "cell_type": "markdown",
   "metadata": {},
   "source": [
    "### Set the local LLM for evaluation instead of OpenAI API Key"
   ]
  },
  {
   "cell_type": "code",
   "execution_count": 6,
   "metadata": {},
   "outputs": [
    {
     "name": "stdout",
     "output_type": "stream",
     "text": [
      "🙌 Congratulations! You're now using a local Ollama model for all evals that \n",
      "require an LLM.\n"
     ]
    }
   ],
   "source": [
    "!deepeval set-ollama deepseek-r1:8b"
   ]
  },
  {
   "cell_type": "code",
   "execution_count": 10,
   "metadata": {},
   "outputs": [
    {
     "ename": "TypeError",
     "evalue": "Provided `test cases` must be a list of LLMTestCase, ConversationalTestCase, or MLLMTestCase",
     "output_type": "error",
     "traceback": [
      "\u001b[31m---------------------------------------------------------------------------\u001b[39m",
      "\u001b[31mTypeError\u001b[39m                                 Traceback (most recent call last)",
      "\u001b[36mCell\u001b[39m\u001b[36m \u001b[39m\u001b[32mIn[10]\u001b[39m\u001b[32m, line 13\u001b[39m\n\u001b[32m      5\u001b[39m answer_relevancy_metric = AnswerRelevancyMetric()\n\u001b[32m      6\u001b[39m test_case = [LLMTestCase(\n\u001b[32m      7\u001b[39m   \u001b[38;5;28minput\u001b[39m=\u001b[33m\"\u001b[39m\u001b[33mWho is the current president of the United States of America?\u001b[39m\u001b[33m\"\u001b[39m,\n\u001b[32m      8\u001b[39m   actual_output=\u001b[33m\"\u001b[39m\u001b[33mJoe Biden\u001b[39m\u001b[33m\"\u001b[39m,\n\u001b[32m      9\u001b[39m   retrieval_context=[\u001b[33m\"\u001b[39m\u001b[33mJoe Biden serves as the current president of America.\u001b[39m\u001b[33m\"\u001b[39m]\n\u001b[32m     10\u001b[39m )]\n\u001b[32m---> \u001b[39m\u001b[32m13\u001b[39m dataset = \u001b[43mEvaluationDataset\u001b[49m\u001b[43m(\u001b[49m\u001b[43mtest_cases\u001b[49m\u001b[43m=\u001b[49m\u001b[43m[\u001b[49m\u001b[43mtest_case\u001b[49m\u001b[43m]\u001b[49m\u001b[43m)\u001b[49m\n\u001b[32m     14\u001b[39m dataset.evaluate(metrics=[answer_relevancy_metric])\n",
      "\u001b[36mFile \u001b[39m\u001b[32m~/tryout/aiqaDemo/myenv312/lib/python3.12/site-packages/deepeval/dataset/dataset.py:74\u001b[39m, in \u001b[36mEvaluationDataset.__init__\u001b[39m\u001b[34m(self, test_cases, goldens, conversational_goldens)\u001b[39m\n\u001b[32m     65\u001b[39m \u001b[38;5;28;01mdef\u001b[39;00m\u001b[38;5;250m \u001b[39m\u001b[34m__init__\u001b[39m(\n\u001b[32m     66\u001b[39m     \u001b[38;5;28mself\u001b[39m,\n\u001b[32m     67\u001b[39m     test_cases: List[\n\u001b[32m   (...)\u001b[39m\u001b[32m     71\u001b[39m     conversational_goldens: List[ConversationalGolden] = [],\n\u001b[32m     72\u001b[39m ):\n\u001b[32m     73\u001b[39m     \u001b[38;5;28;01mfor\u001b[39;00m test_case \u001b[38;5;129;01min\u001b[39;00m test_cases:\n\u001b[32m---> \u001b[39m\u001b[32m74\u001b[39m         \u001b[43mvalidate_test_case_type\u001b[49m\u001b[43m(\u001b[49m\u001b[43mtest_case\u001b[49m\u001b[43m,\u001b[49m\u001b[43m \u001b[49m\u001b[43msubject\u001b[49m\u001b[43m=\u001b[49m\u001b[33;43m\"\u001b[39;49m\u001b[33;43mtest cases\u001b[39;49m\u001b[33;43m\"\u001b[39;49m\u001b[43m)\u001b[49m\n\u001b[32m     75\u001b[39m     \u001b[38;5;28mself\u001b[39m.goldens = goldens\n\u001b[32m     76\u001b[39m     \u001b[38;5;28mself\u001b[39m.conversational_goldens = conversational_goldens\n",
      "\u001b[36mFile \u001b[39m\u001b[32m~/tryout/aiqaDemo/myenv312/lib/python3.12/site-packages/deepeval/dataset/dataset.py:48\u001b[39m, in \u001b[36mvalidate_test_case_type\u001b[39m\u001b[34m(test_case, subject)\u001b[39m\n\u001b[32m     39\u001b[39m \u001b[38;5;28;01mdef\u001b[39;00m\u001b[38;5;250m \u001b[39m\u001b[34mvalidate_test_case_type\u001b[39m(\n\u001b[32m     40\u001b[39m     test_case: Union[LLMTestCase, ConversationalTestCase, MLLMTestCase],\n\u001b[32m     41\u001b[39m     subject: \u001b[38;5;28mstr\u001b[39m,\n\u001b[32m     42\u001b[39m ):\n\u001b[32m     43\u001b[39m     \u001b[38;5;28;01mif\u001b[39;00m (\n\u001b[32m     44\u001b[39m         \u001b[38;5;129;01mnot\u001b[39;00m \u001b[38;5;28misinstance\u001b[39m(test_case, LLMTestCase)\n\u001b[32m     45\u001b[39m         \u001b[38;5;129;01mand\u001b[39;00m \u001b[38;5;129;01mnot\u001b[39;00m \u001b[38;5;28misinstance\u001b[39m(test_case, ConversationalTestCase)\n\u001b[32m     46\u001b[39m         \u001b[38;5;129;01mand\u001b[39;00m \u001b[38;5;129;01mnot\u001b[39;00m \u001b[38;5;28misinstance\u001b[39m(test_case, MLLMTestCase)\n\u001b[32m     47\u001b[39m     ):\n\u001b[32m---> \u001b[39m\u001b[32m48\u001b[39m         \u001b[38;5;28;01mraise\u001b[39;00m \u001b[38;5;167;01mTypeError\u001b[39;00m(\n\u001b[32m     49\u001b[39m             \u001b[33mf\u001b[39m\u001b[33m\"\u001b[39m\u001b[33mProvided `\u001b[39m\u001b[38;5;132;01m{\u001b[39;00msubject\u001b[38;5;132;01m}\u001b[39;00m\u001b[33m` must be a list of LLMTestCase, ConversationalTestCase, or MLLMTestCase\u001b[39m\u001b[33m\"\u001b[39m\n\u001b[32m     50\u001b[39m         )\n",
      "\u001b[31mTypeError\u001b[39m: Provided `test cases` must be a list of LLMTestCase, ConversationalTestCase, or MLLMTestCase"
     ]
    }
   ],
   "source": [
    "from deepeval.test_case import LLMTestCase\n",
    "from deepeval.metrics import AnswerRelevancyMetric\n",
    "from deepeval.dataset import EvaluationDataset\n",
    "\n",
    "answer_relevancy_metric = AnswerRelevancyMetric()\n",
    "test_case = [LLMTestCase(\n",
    "  input=\"Who is the current president of the United States of America?\",\n",
    "  actual_output=\"Joe Biden\",\n",
    "  retrieval_context=[\"Joe Biden serves as the current president of America.\"]\n",
    ")]\n",
    "\n",
    "\n",
    "dataset = EvaluationDataset(test_cases=[test_case])\n",
    "dataset.evaluate(metrics=[answer_relevancy_metric])"
   ]
  },
  {
   "cell_type": "code",
   "execution_count": null,
   "metadata": {},
   "outputs": [
    {
     "data": {
      "text/plain": [
       "EvaluationDataset(test_cases=[LLMTestCase(input='Who is the current president of the United States of America?', actual_output='Joe Biden', expected_output=None, context=None, retrieval_context=['Joe Biden serves as the current president of America.'], additional_metadata=None, comments=None, tools_called=None, expected_tools=None, reasoning=None, name=None)], goldens=[], conversational_goldens=[], _alias=None, _id=None)"
      ]
     },
     "execution_count": 14,
     "metadata": {},
     "output_type": "execute_result"
    }
   ],
   "source": [
    "dataset"
   ]
  },
  {
   "cell_type": "markdown",
   "metadata": {},
   "source": [
    "### Pulling the dataset from Confident AI"
   ]
  },
  {
   "cell_type": "code",
   "execution_count": 15,
   "metadata": {},
   "outputs": [
    {
     "data": {
      "text/html": [
       "<pre style=\"white-space:pre;overflow-x:auto;line-height:normal;font-family:Menlo,'DejaVu Sans Mono',consolas,'Courier New',monospace\">/Users/karthik/tryout/aiqaDemo/myenv312/lib/python3.12/site-packages/rich/live.py:231: UserWarning: install \n",
       "\"ipywidgets\" for Jupyter support\n",
       "  warnings.warn('install \"ipywidgets\" for Jupyter support')\n",
       "</pre>\n"
      ],
      "text/plain": [
       "/Users/karthik/tryout/aiqaDemo/myenv312/lib/python3.12/site-packages/rich/live.py:231: UserWarning: install \n",
       "\"ipywidgets\" for Jupyter support\n",
       "  warnings.warn('install \"ipywidgets\" for Jupyter support')\n"
      ]
     },
     "metadata": {},
     "output_type": "display_data"
    },
    {
     "data": {
      "text/html": [
       "<pre style=\"white-space:pre;overflow-x:auto;line-height:normal;font-family:Menlo,'DejaVu Sans Mono',consolas,'Courier New',monospace\"></pre>\n"
      ],
      "text/plain": []
     },
     "metadata": {},
     "output_type": "display_data"
    },
    {
     "name": "stdout",
     "output_type": "stream",
     "text": [
      "EvaluationDataset(test_cases=[LLMTestCase(input='Who is the current president of the United States of America?', actual_output=None, expected_output='Donald Trump is the current president of America.', context=None, retrieval_context=['Donald Trump serves as the current president of America.'], additional_metadata=None, comments='Manually entered data', tools_called=None, expected_tools=None, reasoning=None, name=None), LLMTestCase(input='Who introduced the GPT model?', actual_output=None, expected_output='OpenAI', context=None, retrieval_context=None, additional_metadata=None, comments=None, tools_called=None, expected_tools=None, reasoning=None, name=None)], goldens=[], conversational_goldens=[], _alias=test, _id=cm8dznxvr19cg7x4vfai8djkh)\n"
     ]
    }
   ],
   "source": [
    "dataset.pull(alias=\"test\", auto_convert_goldens_to_test_cases=True)\n",
    "\n",
    "print(dataset)"
   ]
  },
  {
   "cell_type": "markdown",
   "metadata": {},
   "source": [
    "### Creating Golden (Dataset) for Evaluation"
   ]
  },
  {
   "cell_type": "code",
   "execution_count": 3,
   "metadata": {},
   "outputs": [],
   "source": [
    "test_data = [\n",
    "    {\n",
    "        \"input\": \"Who is the current president of the United States of America?\",\n",
    "        \"expected_output\": \"Donald Trump\"\n",
    "    },\n",
    "    {\n",
    "        \"input\": \"Who introduced the GPT model?\",\n",
    "        \"expected_output\": \"OpenAI\"\n",
    "    }\n",
    "]"
   ]
  },
  {
   "cell_type": "code",
   "execution_count": 4,
   "metadata": {},
   "outputs": [
    {
     "data": {
      "text/plain": [
       "'Who is the current president of the United States of America?'"
      ]
     },
     "execution_count": 4,
     "metadata": {},
     "output_type": "execute_result"
    }
   ],
   "source": [
    "test_data[0]['input']"
   ]
  },
  {
   "cell_type": "code",
   "execution_count": 8,
   "metadata": {},
   "outputs": [],
   "source": [
    "from deepeval.dataset import Golden, EvaluationDataset\n",
    "\n",
    "goldens = []\n",
    "\n",
    "for data in test_data:\n",
    "    golden = Golden(\n",
    "        input=data['input'],\n",
    "        expected_output=data['expected_output']\n",
    "    )\n",
    "    \n",
    "    goldens.append(golden)\n",
    "    \n",
    "\n",
    "dataset = EvaluationDataset(goldens=goldens)"
   ]
  },
  {
   "cell_type": "code",
   "execution_count": 9,
   "metadata": {},
   "outputs": [
    {
     "data": {
      "text/plain": [
       "EvaluationDataset(test_cases=[], goldens=[Golden(input='Who is the current president of the United States of America?', actual_output=None, expected_output='Donald Trump', context=None, retrieval_context=None, additional_metadata=None, comments=None, tools_called=None, expected_tools=None, source_file=None), Golden(input='Who introduced the GPT model?', actual_output=None, expected_output='OpenAI', context=None, retrieval_context=None, additional_metadata=None, comments=None, tools_called=None, expected_tools=None, source_file=None)], conversational_goldens=[], _alias=None, _id=None)"
      ]
     },
     "execution_count": 9,
     "metadata": {},
     "output_type": "execute_result"
    }
   ],
   "source": [
    "dataset"
   ]
  }
 ],
 "metadata": {
  "kernelspec": {
   "display_name": "myenv312",
   "language": "python",
   "name": "python3"
  },
  "language_info": {
   "codemirror_mode": {
    "name": "ipython",
    "version": 3
   },
   "file_extension": ".py",
   "mimetype": "text/x-python",
   "name": "python",
   "nbconvert_exporter": "python",
   "pygments_lexer": "ipython3",
   "version": "3.12.7"
  }
 },
 "nbformat": 4,
 "nbformat_minor": 2
}
